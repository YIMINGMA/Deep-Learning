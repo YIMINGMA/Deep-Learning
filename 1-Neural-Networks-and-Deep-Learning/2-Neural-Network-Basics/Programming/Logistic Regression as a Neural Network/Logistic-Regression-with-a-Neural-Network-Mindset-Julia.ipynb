{
 "cells": [
  {
   "cell_type": "markdown",
   "metadata": {},
   "source": [
    "# Logistic Regression with a Neural Network Mindset"
   ]
  },
  {
   "cell_type": "markdown",
   "metadata": {},
   "source": [
    "Welcome to your first (required) programming assignment! You will build a logistic regression classifier to recognize  cats. This assignment will step you through how to do this with a Neural Network mindset, and so will also hone your intuitions about deep learning.\n",
    "\n",
    "**Instructions:**\n",
    "- Do not use loops (```for```/```while```) in your code, unless the instructions explicitly ask you to do so.\n",
    "\n",
    "**You will learn to:**\n",
    "- Build the general architecture of a learning algorithm, including:\n",
    "    - Initializing parameters\n",
    "    - Calculating the cost function and its gradient\n",
    "    - Using an optimization algorithm (gradient descent) \n",
    "- Gather all three functions above into a main model function, in the right order."
   ]
  },
  {
   "cell_type": "markdown",
   "metadata": {},
   "source": [
    "## 1 - Packages "
   ]
  },
  {
   "cell_type": "code",
   "execution_count": 3,
   "metadata": {},
   "outputs": [],
   "source": [
    "using HDF5\n",
    "using PyPlot\n",
    "using LaTeXStrings\n",
    "using LinearAlgebra\n",
    "using Statistics\n",
    "using Printf"
   ]
  },
  {
   "cell_type": "markdown",
   "metadata": {},
   "source": [
    "## 2 - Overview of the Problem Set"
   ]
  },
  {
   "cell_type": "markdown",
   "metadata": {},
   "source": [
    "**Problem Statement**: You are given a dataset (\"```data.h5```\") containing:\n",
    "- a training set of ```m_train``` images labeled as cat (```y=1```) or non-cat (```y=0```)\n",
    "- a test set of ```m_test``` images labeled as cat or non-cat\n",
    "- each image is of shape ```(num_px, num_px, 3)``` where ```3``` is for the $3$ channels (RGB). Thus, each image is square (```height = num_px```) and (```width = num_px```).\n",
    "\n",
    "You will build a simple image-recognition algorithm that can correctly classify pictures as cat or non-cat.\n",
    "\n",
    "Let's get more familiar with the dataset. Notice that in Julia, to read a Hierarchical Data Format (HDF) file, we need to use ```fid = h5open(filename, mode)```, in which ```filename``` is a string and the ```mode``` can be any one of the following:\n",
    "\n",
    "|mode        |Meaning   |\n",
    "|------------|----------|\n",
    "|```\"r\"```   |read-only |\n",
    "|```\"r+\"```  |read-write, preserving any existing contents |\n",
    "|```\"cw\"```  |read-write, create file if not existing, preserve existing contents |\n",
    "|```\"w\"```   |read-write, destroying any existing contents (if any)|\n",
    "\n",
    "See more information on [HDF5.jl](https://juliaio.github.io/HDF5.jl/stable/).\n",
    "\n",
    "Load the data by running the following code."
   ]
  },
  {
   "cell_type": "code",
   "execution_count": 2,
   "metadata": {},
   "outputs": [
    {
     "name": "stdout",
     "output_type": "stream",
     "text": [
      "keys(fid_train) = [\"list_classes\", \"train_set_x\", \"train_set_y\"]\n",
      "size(train_set_x_orig) = (209, 64, 64, 3)\n"
     ]
    }
   ],
   "source": [
    "# Load the training data\n",
    "fid_train = h5open(\"./datasets/train_catvnoncat.h5\", \"r\")\n",
    "@show keys(fid_train)\n",
    "\n",
    "# Get train_set_x_orig and train_set_y\n",
    "train_set_x_orig = Int.(fid_train[\"train_set_x\"][:, :, :, :]) # size(train_set_x_orig) = (3, 64, 64, 209)\n",
    "train_set_x_orig = permutedims(train_set_x_orig, [4, 3, 2, 1]) # size(train_set_x_orig) = (209, 64, 64, 3)\n",
    "train_set_y_orig = Int.(fid_train[\"train_set_y\"][:]) # size(train_set_y_orig) = (209,)\n",
    "train_set_y = reshape(train_set_y_orig, (1, length(train_set_y_orig))) # size(train_set_y) = (1, 209)\n",
    "\n",
    "@show size(train_set_x_orig);"
   ]
  },
  {
   "cell_type": "code",
   "execution_count": 3,
   "metadata": {},
   "outputs": [
    {
     "name": "stdout",
     "output_type": "stream",
     "text": [
      "keys(fid_test) = [\"list_classes\", \"test_set_x\", \"test_set_y\"]\n"
     ]
    }
   ],
   "source": [
    "# Load the test set\n",
    "fid_test = h5open(\"./datasets/test_catvnoncat.h5\",\"r\")\n",
    "@show keys(fid_test)\n",
    "\n",
    "# Get test_set_x_orig and test_set_y\n",
    "test_set_x_orig = Int.(fid_test[\"test_set_x\"][:, :, :, :]) # size(test_set_x_orig) = (3, 64, 64, 50)\n",
    "test_set_x_orig = permutedims(test_set_x_orig, [4, 3, 2, 1]) # size(test_set_x_orig) = (50, 64, 64, 3)\n",
    "test_set_y_orig = Int.(fid_test[\"test_set_y\"][:]) # size(test_set_y_orig) = (50,)\n",
    "test_set_y = reshape(test_set_y_orig, (1, length(test_set_y_orig))); # size(test_set_y) = (1, 50)"
   ]
  },
  {
   "cell_type": "code",
   "execution_count": 4,
   "metadata": {},
   "outputs": [
    {
     "name": "stdout",
     "output_type": "stream",
     "text": [
      "classes = [\"non-cat\", \"cat\"]\n"
     ]
    }
   ],
   "source": [
    "# Get the classes\n",
    "classes = string.(fid_test[\"list_classes\"][:])\n",
    "@show classes;"
   ]
  },
  {
   "cell_type": "markdown",
   "metadata": {},
   "source": [
    "We added \"```_orig```\" at the end of image datasets (train and test) because we are going to preprocess them. After preprocessing, we will end up with ```train_set_x``` and ```test_set_x``` (the labels ```train_set_y``` and ```test_set_y``` don't need any preprocessing).\n",
    "\n",
    "Each line of your ```train_set_x_orig``` and ```test_set_x_orig``` is an array representing an image. You can visualize an example by running the following code. Feel free also to change the ```index``` value and re-run to see other images. "
   ]
  },
  {
   "cell_type": "code",
   "execution_count": 5,
   "metadata": {},
   "outputs": [
    {
     "data": {
      "image/png": "[encoded data removed]",
      "text/plain": [
       "Figure(PyObject <Figure size 300x300 with 1 Axes>)"
      ]
     },
     "metadata": {},
     "output_type": "display_data"
    },
    {
     "name": "stdout",
     "output_type": "stream",
     "text": [
      "y = 1, it's a cat picture.\n"
     ]
    }
   ],
   "source": [
    "# Example of a picture\n",
    "index =  26\n",
    "plt.figure(figsize=(3,3))\n",
    "plt.imshow(train_set_x_orig[index, :, :, :])\n",
    "println(\"y = \" * string(train_set_y[index]) * \", it's a \" * classes[(train_set_y[index])+1] *  \" picture.\")\n",
    "# y=0 -> non-cat (index 1) & y=1 -> cat (index 2)"
   ]
  },
  {
   "cell_type": "markdown",
   "metadata": {},
   "source": [
    "Many software bugs in deep learning come from having matrix/vector dimensions that don't fit. If you can keep your matrix/vector dimensions straight you will go a long way toward eliminating many bugs. \n",
    "\n",
    "**Exercise:** Find the values for:\n",
    "    - ```m_train``` (number of training examples)\n",
    "    - ```m_test``` (number of test examples)\n",
    "    - ```num_px``` (= ```height``` = ```width``` of a training image)\n",
    "Remember that `train_set_x_orig` is an array of shape ```(m_train, num_px, num_px, 3)```. For instance, you can access `m_train` by writing `size(train_set_x_orig)[0]`."
   ]
  },
  {
   "cell_type": "code",
   "execution_count": 6,
   "metadata": {},
   "outputs": [
    {
     "name": "stdout",
     "output_type": "stream",
     "text": [
      "Number of training examples: m_train = 209\n",
      "Number of testing examples: m_test = 50\n",
      "Height/Width of each image: num_px = 64\n",
      "Each image is of size: (64, 64, 3)\n",
      "train_set_x shape: (209, 64, 64, 3)\n",
      "train_set_y shape: (1, 209)\n",
      "test_set_x shape: (50, 64, 64, 3)\n",
      "test_set_y shape: (1, 50)\n"
     ]
    }
   ],
   "source": [
    "### START CODE HERE ### (≈ 3 lines of code)\n",
    "m_train = size(train_set_x_orig)[1]\n",
    "m_test = size(test_set_x_orig)[1]\n",
    "num_px = size(train_set_x_orig)[2]\n",
    "### END CODE HERE ###\n",
    "\n",
    "println(\"Number of training examples: m_train = \" * string(m_train))\n",
    "println(\"Number of testing examples: m_test = \" * string(m_test))\n",
    "println(\"Height/Width of each image: num_px = \" * string(num_px))\n",
    "println(\"Each image is of size: (\" * string(num_px) * \", \" * string(num_px) * \", 3)\")\n",
    "println(\"train_set_x shape: \" * string(size(train_set_x_orig)))\n",
    "println(\"train_set_y shape: \" * string(size(train_set_y)))\n",
    "println(\"test_set_x shape: \" * string(size(test_set_x_orig)))\n",
    "println(\"test_set_y shape: \" * string(size(test_set_y)))"
   ]
  },
  {
   "cell_type": "markdown",
   "metadata": {},
   "source": [
    "**Expected Output for ```m_train```, ```m_test``` and ```num_px```**: \n",
    "\n",
    "| ```m_train``` | ```m_test``` | ```num_px``` |\n",
    "|---------------|--------------|--------------|\n",
    "| 209           | 50           | 64           |"
   ]
  },
  {
   "cell_type": "markdown",
   "metadata": {},
   "source": [
    "For convenience, you should now reshape images of shape ```(num_px, num_px, 3)``` in an array of shape ```(num_px*num_px*3, 1)```. After this, our training (and test) dataset is an array where each column represents a flattened image. There should be ```m_train``` (respectively ```m_test```) columns.\n",
    "\n",
    "**Exercise:** Reshape the training and test data sets so that images of size ```(num_px, num_px, 3)``` are flattened into single vectors of shape ```(num_px*num_px*3, 1)```.\n",
    "\n",
    "A trick when you want to flatten a matrix ```X``` of shape ```(a,b,c,d)``` to a matrix ```X_flatten``` of shape ```(b*c*d, a)``` is to use: \n",
    "\n",
    "```julia\n",
    "    X_flatten = reshape(X, (a, b*c*d))'\n",
    "```\n",
    "\n",
    "But if you want to get the same matrices as those you have got in Python, you have to use\n",
    "\n",
    "```julia\n",
    "    temp = permutedims(X, [1, 4, 3, 2])\n",
    "    X_flatten = reshape(temp, (a, b*c*d))'\n",
    "```\n",
    "\n",
    "This is because Julia and Python Numpy have different machanisms in implementing ```reshape```. Julia gives priority to the last index, while Numpy prioritizes the first index. For example, in Julia\n",
    "\n",
    "```julia\n",
    "    a = [[1 2 3]; [4 5 6]]\n",
    "    reshape(a, (6,1))\n",
    "\n",
    "    6×1 Array{Int64,2}:\n",
    "     1\n",
    "     4\n",
    "     2\n",
    "     5\n",
    "     3\n",
    "     6\n",
    "```\n",
    "\n",
    "while in Python, \n",
    "\n",
    "```python\n",
    "    a = np.array([[1,2,3],[4,5,6]])\n",
    "    a.reshape((6,1))\n",
    "\n",
    "    array([[1],\n",
    "           [2],\n",
    "           [3],\n",
    "           [4],\n",
    "           [5],\n",
    "           [6]])\n",
    "```\n",
    "\n",
    "The essential cause of these different results is that Numpy stores arrays in row-major manner, but Julia stores arrays in column-major manner."
   ]
  },
  {
   "cell_type": "code",
   "execution_count": 7,
   "metadata": {},
   "outputs": [
    {
     "data": {
      "text/plain": [
       "12288×209 Adjoint{Int64,Array{Int64,2}}:\n",
       " 17  196   82   1   9   84  56  19  …   43  102   93  200   9  143  22   8\n",
       " 25  230   95   1   9   99  56   7      48  117   99  136  10  151  22  15\n",
       " 32  232   94   1   9  110  53   6      56  108  103  179   9  204  22  20\n",
       " 36  217   96   2   8  103  58   6      65  108  108  197  10  196  21  21\n",
       " 40  237   99   2   9   57  51   6      50  113  113  132  10  202  21  22\n",
       " 41  238   94   2   8   60  53   6  …   47   91  115  100  11  173  22  23\n",
       " 43  215   98   2   7   77  45   5      59  105  117  105  12  139  21  22\n",
       " 46  178  101   1   8   84  42   6      55  146  119  120  12  143  20  22\n",
       " 50  170  103   1   8   75  40   6      51  123  121  114  15  180  20  25\n",
       " 53  178  109   1   8   43  40   6      47   39  124  105  18  194  18  26\n",
       " 56  187  103   2   7   43  53   8  …   48   18  126  112  23  192  16  28\n",
       " 58  188  105   2   7   86  55   8      54   31  125  126  28  191  12  29\n",
       " 60  198  117   3   7   41  53  10      61   30  124  114  36  178  10  31\n",
       "  ⋮                      ⋮          ⋱                       ⋮           \n",
       " 35   29  136   2   8   22  22  14      87  100    2  201   0  201   2  34\n",
       " 48   34  128   2   8   20  22  19      80   81    1  194   0  203   2  37\n",
       " 50   79  110   2   9   21  19  25      79   89    0  184   0  209   2  41\n",
       " 52   86   95   2   6   21  15  25      76  105    0  194   1  188   1  34\n",
       " 55   82   91   2   4   23  20  16  …   82   87    0  216   1   99   1   3\n",
       " 41   86   84   1   8   23  16  10      74   61    0  234   0  102   1   0\n",
       "  5   81  104   2  11   22  16   8      60   59    0  228   0   94   0   0\n",
       "  0   81  114   5  13   22  22   7     114   77    0  228   0   96   0   0\n",
       "  0   81  122  13  13   22  18   5     153   97    0  235   0   94   0   0\n",
       "  0   82  134   7  13   22  16   4  …  150  105    0  248   0   96   0   0\n",
       "  0   81  134   5  20   24  11   3     131  118    0  233   0  139   0   0\n",
       "  0   81  142   2  21   22  10   4     120  161    0  243   0  149   0   0"
      ]
     },
     "execution_count": 7,
     "metadata": {},
     "output_type": "execute_result"
    }
   ],
   "source": [
    "# reshape the array directly\n",
    "train_set_x_flatten = reshape(train_set_x_orig, (m_train, num_px*num_px*3))'"
   ]
  },
  {
   "cell_type": "code",
   "execution_count": 8,
   "metadata": {},
   "outputs": [
    {
     "ename": "LoadError",
     "evalue": "UndefVarError: train_set_x_temp not defined",
     "output_type": "error",
     "traceback": [
      "UndefVarError: train_set_x_temp not defined",
      "",
      "Stacktrace:",
      " [1] top-level scope at In[8]:3",
      " [2] include_string(::Function, ::Module, ::String, ::String) at ./loading.jl:1091"
     ]
    }
   ],
   "source": [
    "# permute the indices first then reshape the array\n",
    "bar_train_set_x_temp = permutedims(train_set_x_orig, [1, 4, 3, 2])\n",
    "bar_train_set_x_flatten = reshape(train_set_x_temp, (m_train, num_px*num_px*3))' "
   ]
  },
  {
   "cell_type": "markdown",
   "metadata": {},
   "source": [
    "It can be seen that the arrays differ in the order of column elements, which means generally, $X^{(i)}_j \\neq \\bar{X}^{(i)}_j$, $\\forall i \\in \\{1, \\cdots, m\\}$, $\\forall j \\in \\{1, \\cdots n_x\\}$, but the two sets $\\{X^{(i)}_1, \\cdots X^{(i)}_{n_x}\\}$ and $\\{\\bar{X}^{(i)}_1, \\cdots, \\bar{X}^{(i)}_{n_x}\\}$ are equal.\n",
    "\n",
    "Theoretically, no matter which way you use to reshape the array, the results should be the same, because what you did is just change the alignment of variables $x_1, \\cdots, x_{n_x}$. "
   ]
  },
  {
   "cell_type": "code",
   "execution_count": 9,
   "metadata": {},
   "outputs": [
    {
     "name": "stdout",
     "output_type": "stream",
     "text": [
      "train_set_x_flatten shape: (12288, 209)\n",
      "train_set_y shape: (1, 209)\n",
      "test_set_x_flatten shape: (12288, 50)\n",
      "test_set_y shape: (1, 50)\n",
      "sanity check after reshaping: [17, 31, 56, 22, 33, 59]\n"
     ]
    }
   ],
   "source": [
    "# Reshape the training and test examples\n",
    "\n",
    "### START CODE HERE ### (≈ 4 lines of code)\n",
    "train_set_x_flatten = reshape(permutedims(train_set_x_orig, [1, 4, 3, 2]), (m_train, num_px*num_px*3))' \n",
    "test_set_x_flatten = reshape(permutedims(test_set_x_orig, [1, 4, 3, 2]), (m_test, num_px*num_px*3))' \n",
    "### END CODE HERE ###\n",
    "\n",
    "println(\"train_set_x_flatten shape: \" * string(size(train_set_x_flatten)))\n",
    "println(\"train_set_y shape: \" * string(size(train_set_y)))\n",
    "println(\"test_set_x_flatten shape: \" * string(size(test_set_x_flatten)))\n",
    "println(\"test_set_y shape: \" * string(size(test_set_y)))\n",
    "println(\"sanity check after reshaping: \" * string(train_set_x_flatten[1:6, 1]))"
   ]
  },
  {
   "cell_type": "markdown",
   "metadata": {},
   "source": [
    "**Expected Output**: \n",
    "\n",
    "| ```train_set_x_flatten shape``` | ```train_set_y shape``` | ```test_set_x_flatten shape``` | ```test_set_y shape``` | sanity check after reshaping |\n",
    "|---------------------------------|-------------------------|-------------------------------:|------------------------|------------------------------|\n",
    "| ```(12288, 209)```              | ```(1, 209)```          |              ```(12288, 50)``` | ```(1, 50)```          | ```[17, 31, 56, 22, 33, 59]```       |"
   ]
  },
  {
   "cell_type": "markdown",
   "metadata": {},
   "source": [
    "To represent color images, the red, green and blue channels (RGB) must be specified for each pixel, and so the pixel value is actually a vector of three numbers ranging from 0 to 255.\n",
    "\n",
    "One common preprocessing step in machine learning is to center and standardize your dataset, meaning that you substract the mean of the whole numpy array from each example, and then divide each example by the standard deviation of the whole numpy array. But for picture datasets, it is simpler and more convenient and works almost as well to just divide every row of the dataset by 255 (the maximum value of a pixel channel).\n",
    "\n",
    "During the training of your model, you're going to multiply weights and add biases to some initial inputs in order to observe neuron activations. Then you backpropogate with the gradients to train the model. But, it is extremely important for each feature to have a similar range such that our gradients don't explode. You will see that more in detail later in the lectures.\n",
    "\n",
    "Let's standardize our dataset."
   ]
  },
  {
   "cell_type": "code",
   "execution_count": 10,
   "metadata": {},
   "outputs": [],
   "source": [
    "train_set_x = train_set_x_flatten ./ 255\n",
    "test_set_x = test_set_x_flatten ./ 255;"
   ]
  },
  {
   "cell_type": "markdown",
   "metadata": {},
   "source": [
    "**What you need to remember:**\n",
    "\n",
    "Common steps for pre-processing a new dataset are:\n",
    "- Figure out the dimensions and shapes of the problem ```(m_train, m_test, num_px, ...)```\n",
    "- Reshape the datasets such that each example is now a vector of size ```(num_px * num_px * 3, 1)```\n",
    "- \"Standardize\" the data"
   ]
  },
  {
   "cell_type": "markdown",
   "metadata": {},
   "source": [
    "## 3 - General Architecture of the Learning Algorithm"
   ]
  },
  {
   "cell_type": "markdown",
   "metadata": {},
   "source": [
    "It's time to design a simple algorithm to distinguish cat images from non-cat images.\n",
    "\n",
    "You will build a Logistic Regression, using a Neural Network mindset. The following Figure explains why **Logistic Regression is actually a very simple Neural Network!**\n",
    "\n",
    "<img src=\"images/LogReg_kiank.png\" style=\"width:650px;height:400px;\">\n",
    "\n",
    "**Mathematical expression of the algorithm**:\n",
    "\n",
    "For one example $x^{(i)}$:\n",
    "$$z^{(i)} = w^T x^{(i)} + b \\tag{1}$$\n",
    "$$\\hat{y}^{(i)} = a^{(i)} = \\text{sigmoid}(z^{(i)})\\tag{2}$$ \n",
    "$$ \\mathcal{L}(a^{(i)}, y^{(i)}) =  - y^{(i)}  \\log(a^{(i)}) - (1-y^{(i)} )  \\log(1-a^{(i)})\\tag{3}$$\n",
    "\n",
    "The cost is then computed by summing over all training examples:\n",
    "$$ J = \\frac{1}{m} \\sum_{i=1}^m \\mathcal{L}(a^{(i)}, y^{(i)})\\tag{6}$$\n",
    "\n",
    "**Key steps**:\n",
    "In this exercise, you will carry out the following steps: \n",
    "\n",
    "- Initialize the parameters of the model\n",
    "- Learn the parameters for the model by minimizing the cost  \n",
    "- Use the learned parameters to make predictions (on the test set)\n",
    "- Analyse the results and conclude"
   ]
  },
  {
   "cell_type": "markdown",
   "metadata": {},
   "source": [
    "## 4 - Building the Parts of Our Algorithm"
   ]
  },
  {
   "cell_type": "markdown",
   "metadata": {},
   "source": [
    "The main steps for building a Neural Network are:\n",
    "1. Define the model structure (such as number of input features) \n",
    "2. Initialize the model's parameters\n",
    "3. Loop:\n",
    "    - Calculate current loss (forward propagation)\n",
    "    - Calculate current gradient (backward propagation)\n",
    "    - Update parameters (gradient descent)\n",
    "\n",
    "You often build 1-3 separately and integrate them into one function we call `model()`."
   ]
  },
  {
   "cell_type": "markdown",
   "metadata": {},
   "source": [
    "### 4.1 - A Helper Function"
   ]
  },
  {
   "cell_type": "markdown",
   "metadata": {},
   "source": [
    "**Exercise**: Implement ```sigmoid()```. As you've seen in the figure above, you need to compute $\\sigma( w^T x + b) = \\frac{1}{1 + e^{-(w^T x + b)}}$ to make predictions."
   ]
  },
  {
   "cell_type": "code",
   "execution_count": 11,
   "metadata": {},
   "outputs": [
    {
     "data": {
      "text/plain": [
       "sigmoid"
      ]
     },
     "execution_count": 11,
     "metadata": {},
     "output_type": "execute_result"
    }
   ],
   "source": [
    "# GRADED FUNCTION: sigmoid\n",
    "\"\"\"\n",
    "Compute the sigmoid of z\n",
    "\n",
    "Arguments:\n",
    "z -- A scalar or array of any size.\n",
    "\n",
    "Return:\n",
    "s -- sigmoid(z)\n",
    "\"\"\"\n",
    "function sigmoid(z)\n",
    "    \n",
    "    ### START CODE HERE ### (≈ 1 line of code)\n",
    "    s = 1 ./ (1 .+ exp.(-z))\n",
    "    ### END CODE HERE ###\n",
    "    \n",
    "    return s\n",
    "end"
   ]
  },
  {
   "cell_type": "code",
   "execution_count": 12,
   "metadata": {},
   "outputs": [
    {
     "name": "stdout",
     "output_type": "stream",
     "text": [
      "sigmoid([0, 2]) = [0.5, 0.8807970779778823]\n"
     ]
    }
   ],
   "source": [
    "println(\"sigmoid([0, 2]) = \" * string(sigmoid([0, 2])))"
   ]
  },
  {
   "cell_type": "markdown",
   "metadata": {},
   "source": [
    "**Expected Output**: \n",
    "\n",
    "|**sigmoid([0, 2])**|\n",
    "|------------------------|\n",
    "|```[0.5, 0.88079708]```|"
   ]
  },
  {
   "cell_type": "markdown",
   "metadata": {},
   "source": [
    "### 4.2 - Initializing Parameters"
   ]
  },
  {
   "cell_type": "markdown",
   "metadata": {},
   "source": [
    "**Exercise:** Implement parameter initialization in the cell below. You have to initialize ```w``` as a vector of zeros."
   ]
  },
  {
   "cell_type": "code",
   "execution_count": 13,
   "metadata": {},
   "outputs": [
    {
     "data": {
      "text/plain": [
       "initialize_with_zeros"
      ]
     },
     "execution_count": 13,
     "metadata": {},
     "output_type": "execute_result"
    }
   ],
   "source": [
    "# GRADED FUNCTION: initialize_with_zeros\n",
    "\"\"\"\n",
    "This function creates a vector of zeros of shape (dim, 1) for w and initializes b to 0.\n",
    "\n",
    "Argument:\n",
    "dim -- size of the w vector we want (or number of parameters in this case)\n",
    "\n",
    "Returns:\n",
    "w -- initialized vector of shape (dim, 1)\n",
    "b -- initialized scalar (corresponds to the bias)\n",
    "\"\"\"\n",
    "function initialize_with_zeros(dim)\n",
    "\n",
    "    ### START CODE HERE ### (≈ 1 line of code)\n",
    "    w = zeros((dim, 1))\n",
    "    b = 0\n",
    "    ### END CODE HERE ###\n",
    "\n",
    "    @assert size(w) == (dim, 1)\n",
    "    @assert isa(b, Float64) | isa(b, Int)\n",
    "    \n",
    "    return w, b\n",
    "end"
   ]
  },
  {
   "cell_type": "code",
   "execution_count": 14,
   "metadata": {},
   "outputs": [
    {
     "name": "stdout",
     "output_type": "stream",
     "text": [
      "w = [0.0; 0.0]\n",
      "b = 0\n"
     ]
    }
   ],
   "source": [
    "dim = 2\n",
    "w, b = initialize_with_zeros(dim)\n",
    "println(\"w = \" * string(w))\n",
    "println(\"b = \" * string(b))"
   ]
  },
  {
   "cell_type": "markdown",
   "metadata": {},
   "source": [
    "**Expected Output**: \n",
    "\n",
    "|**w**|**b**|\n",
    "|-----|-----|\n",
    "|```[0.0; 0.0]```|```0```|\n",
    "\n",
    "For image inputs, ```w``` will be of shape $(\\text{num_px} \\times \\text{num_px} \\times 3, 1)$."
   ]
  },
  {
   "cell_type": "markdown",
   "metadata": {},
   "source": [
    "### 4.3 - Forward and Backward Propagation"
   ]
  },
  {
   "cell_type": "markdown",
   "metadata": {},
   "source": [
    "Now that your parameters are initialized, you can do the \"forward\" and \"backward\" propagation steps for learning the parameters.\n",
    "\n",
    "**Exercise:** Implement a function `propagate()` that computes the cost function and its gradient.\n",
    "\n",
    "**Hints**:\n",
    "\n",
    "Forward Propagation:\n",
    "- You get $X$\n",
    "- You compute $A = \\sigma(w^T X + b) = (a^{(1)}, a^{(2)}, ..., a^{(m-1)}, a^{(m)})$\n",
    "- You calculate the cost function: $J = -\\frac{1}{m}\\sum_{i=1}^{m}y^{(i)}\\log(a^{(i)})+(1-y^{(i)})\\log(1-a^{(i)})$\n",
    "\n",
    "Here are the two formulas you will be using: \n",
    "\n",
    "$$ \\frac{\\partial J}{\\partial w} = \\frac{1}{m}X(A-Y)^T\\tag{7}$$\n",
    "$$ \\frac{\\partial J}{\\partial b} = \\frac{1}{m} \\sum_{i=1}^m (a^{(i)}-y^{(i)})\\tag{8}$$"
   ]
  },
  {
   "cell_type": "code",
   "execution_count": 15,
   "metadata": {},
   "outputs": [
    {
     "data": {
      "text/plain": [
       "propagate"
      ]
     },
     "execution_count": 15,
     "metadata": {},
     "output_type": "execute_result"
    }
   ],
   "source": [
    "# GRADED FUNCTION: propagate\n",
    "\"\"\"\n",
    "Implement the cost function and its gradient for the propagation explained above.\n",
    "\n",
    "Arguments:\n",
    "w -- weights, an array of size (num_px * num_px * 3, 1)\n",
    "b -- bias, a scalar\n",
    "X -- data of size (num_px * num_px * 3, number of examples)\n",
    "Y -- true \"label\" vector (containing 0 if non-cat, 1 if cat) of size (1, number of examples)\n",
    "\n",
    "Return:\n",
    "cost -- negative log-likelihood cost for logistic regression\n",
    "dw -- gradient of the loss with respect to w, thus same shape as w\n",
    "db -- gradient of the loss with respect to b, thus same shape as b\n",
    "\n",
    "Tips:\n",
    "- Write your code step by step for the propagation. log(), dot()\n",
    "\"\"\"\n",
    "function propagate(w, b, X, Y)\n",
    "    \n",
    "    m = size(X)[2]\n",
    "    \n",
    "    # FORWARD PROPAGATION (FROM X TO COST)\n",
    "    ### START CODE HERE ### (≈ 2 lines of code)\n",
    "    A = sigmoid((w' * X) .+ b)                                      # compute activation\n",
    "    cost = - 1/m * (dot(Y, log.(A)) + dot(1 .- Y, log.(1 .- A)))    # compute cost\n",
    "    ### END CODE HERE ###\n",
    "    \n",
    "    # BACKWARD PROPAGATION (TO FIND GRAD)\n",
    "    ### START CODE HERE ### (≈ 2 lines of code)\n",
    "    dw = 1/m * (X * (A .- Y)')\n",
    "    db = 1/m * sum(A .- Y)\n",
    "    ### END CODE HERE ###\n",
    "    @assert size(dw) == size(w)\n",
    "    @assert isa(db, Float64)\n",
    "    @assert size(cost) == ()\n",
    "    \n",
    "    grads = Dict(\"dw\" => dw, \"db\"=> db)\n",
    "    \n",
    "    return grads, cost\n",
    "end"
   ]
  },
  {
   "cell_type": "code",
   "execution_count": 16,
   "metadata": {},
   "outputs": [
    {
     "name": "stdout",
     "output_type": "stream",
     "text": [
      "dw = [0.998456014637956; 2.3950723884862066]\n",
      "db = 0.001455578136784208\n",
      "cost = 5.801545319394553\n"
     ]
    }
   ],
   "source": [
    "w, b, X, Y = [[1.]; [2.]], 2., [[1. 2. -1.]; [3. 4. -3.2]], [1 0 1]\n",
    "w = reshape(w, (length(w), 1))\n",
    "Y = reshape(Y, (1, length(Y)))\n",
    "grads, cost = propagate(w, b, X, Y)\n",
    "println(\"dw = \" * string(grads[\"dw\"]))\n",
    "println(\"db = \" * string(grads[\"db\"]))\n",
    "println(\"cost = \" * string(cost))"
   ]
  },
  {
   "cell_type": "markdown",
   "metadata": {},
   "source": [
    "**Expected Output**:\n",
    "\n",
    "|**dw**|**db**|**cost**|\n",
    "|------|------|--------|\n",
    "|```[0.998456014637956; 2.3950723884862066]```|```0.001455578136784208```|```5.801545319394553```|"
   ]
  },
  {
   "cell_type": "markdown",
   "metadata": {},
   "source": [
    "### 4.4 - Optimization"
   ]
  },
  {
   "cell_type": "markdown",
   "metadata": {},
   "source": [
    "- You have initialized your parameters.\n",
    "- You are also able to compute a cost function and its gradient.\n",
    "- Now, you want to update the parameters using gradient descent.\n",
    "\n",
    "**Exercise:** Write down the optimization function. The goal is to learn $w$ and $b$ by minimizing the cost function $J$. For a parameter $\\theta$, the update rule is $ \\theta = \\theta - \\alpha \\text{ } d\\theta$, where $\\alpha$ is the learning rate."
   ]
  },
  {
   "cell_type": "code",
   "execution_count": 17,
   "metadata": {},
   "outputs": [
    {
     "data": {
      "text/plain": [
       "optimize"
      ]
     },
     "execution_count": 17,
     "metadata": {},
     "output_type": "execute_result"
    }
   ],
   "source": [
    "# GRADED FUNCTION: optimize\n",
    "\"\"\"\n",
    "This function optimizes w and b by running a gradient descent algorithm\n",
    "\n",
    "Arguments:\n",
    "w -- weights, a numpy array of size (num_px * num_px * 3, 1)\n",
    "b -- bias, a scalar\n",
    "X -- data of shape (num_px * num_px * 3, number of examples)\n",
    "Y -- true \"label\" vector (containing 0 if non-cat, 1 if cat), of shape (1, number of examples)\n",
    "num_iterations -- number of iterations of the optimization loop\n",
    "learning_rate -- learning rate of the gradient descent update rule\n",
    "print_cost -- True to print the loss every 100 steps\n",
    "\n",
    "Returns:\n",
    "params -- dictionary containing the weights w and bias b\n",
    "grads -- dictionary containing the gradients of the weights and bias with respect to the cost function\n",
    "costs -- list of all the costs computed during the optimization, \n",
    "         this will be used to plot the learning curve.\n",
    "\n",
    "Tips:\n",
    "You basically need to write down two steps and iterate through them:\n",
    "    1) Calculate the cost and the gradient for the current parameters. Use propagate().\n",
    "    2) Update the parameters using gradient descent rule for w and b.\n",
    "\"\"\"\n",
    "function optimize(w, b, X, Y, num_iterations, learning_rate, print_cost = false)\n",
    "    \n",
    "    costs = []\n",
    "    dw = 0 # initialize dw\n",
    "    db = 0 # initialize db\n",
    "    \n",
    "    for i in 1: num_iterations\n",
    "        # Cost and gradient calculation (≈ 1-4 lines of code)\n",
    "        ### START CODE HERE ### \n",
    "        grads, cost = propagate(w, b, X, Y)\n",
    "        ### END CODE HERE ###\n",
    "        \n",
    "        # Retrieve derivatives from grads\n",
    "        dw = grads[\"dw\"]\n",
    "        db = grads[\"db\"]\n",
    "        \n",
    "        # update rule (≈ 2 lines of code)\n",
    "        ### START CODE HERE ###\n",
    "        w = w .- learning_rate.*dw\n",
    "        b = b .- learning_rate.*db\n",
    "        ### END CODE HERE ###\n",
    "        \n",
    "        # Record the costs\n",
    "        if i % 100 == 0\n",
    "            append!(costs, cost)\n",
    "        end\n",
    "        # Print the cost every 100 training iterations\n",
    "        if print_cost && i % 100 == 0\n",
    "            println(\"Cost after iteration $(i): $(cost)\")\n",
    "        end      \n",
    "    end\n",
    "    \n",
    "    grads = Dict(\"dw\" => dw, \"db\" => db)\n",
    "    params = Dict(\"w\" => w, \"b\" => b)\n",
    "\n",
    "    \n",
    "    return params, grads, costs\n",
    "end"
   ]
  },
  {
   "cell_type": "code",
   "execution_count": 18,
   "metadata": {},
   "outputs": [
    {
     "name": "stdout",
     "output_type": "stream",
     "text": [
      "Cost after iteration 100: 1.0784313398164707\n",
      "w = [0.19033590888604332; 0.12259159246561413]\n",
      "b = 1.9253598300845747\n",
      "dw = [0.6775204222153582; 1.416254952638088]\n",
      "db = 0.21919450454067657\n"
     ]
    }
   ],
   "source": [
    "params, grads, costs = optimize(w, b, X, Y, 100, 0.009, true)\n",
    "\n",
    "println(\"w = \" * string(params[\"w\"]))\n",
    "println(\"b = \" * string(params[\"b\"]))\n",
    "println(\"dw = \" * string(grads[\"dw\"]))\n",
    "println(\"db = \" * string(grads[\"db\"]))"
   ]
  },
  {
   "cell_type": "markdown",
   "metadata": {},
   "source": [
    "**Expected Output**: \n",
    "\n",
    "|**w**|**b**|**dw**|**db**|\n",
    "|-----|-----|------|------|\n",
    "|```[0.19033590888604332; 0.12259159246561413]```|```1.9253598300845747```|```[0.6775204222153582; 1.416254952638088]```|```0.21919450454067657```|"
   ]
  },
  {
   "cell_type": "markdown",
   "metadata": {},
   "source": [
    "**Exercise:** The previous function will output the learned ```w``` and ```b```. We are able to use ```w``` and ```b``` to predict the labels for a dataset ```X```. Implement the `predict()` function. There are two steps to computing predictions:\n",
    "\n",
    "1. Calculate $\\hat{Y} = A = \\sigma(w^T X + b)$\n",
    "2. Convert the entries of a into ```0``` (if $\\verb|activation| \\le 0.5$) or ```1``` (if $\\verb|activation| > 0.5$), stores the predictions in a vector `Y_prediction`. If you wish, you can use an `if`/`else` statement in a `for` loop (though there is also a way to vectorize this). "
   ]
  },
  {
   "cell_type": "code",
   "execution_count": 19,
   "metadata": {},
   "outputs": [
    {
     "data": {
      "text/plain": [
       "predict"
      ]
     },
     "execution_count": 19,
     "metadata": {},
     "output_type": "execute_result"
    }
   ],
   "source": [
    "# GRADED FUNCTION: predict\n",
    "\"\"\"\n",
    "Predict whether the label is 0 or 1 using learned logistic regression parameters (w, b)\n",
    "\n",
    "Arguments:\n",
    "w -- weights, a numpy array of size (num_px * num_px * 3, 1)\n",
    "b -- bias, a scalar\n",
    "X -- data of size (num_px * num_px * 3, number of examples)\n",
    "\n",
    "Returns:\n",
    "Y_prediction -- a numpy array (vector) containing all predictions (0/1) for the examples in X\n",
    "\"\"\"\n",
    "function predict(w, b, X)\n",
    "    m = size(X)[2]\n",
    "    Y_prediction = zeros(1, m)\n",
    "    w = reshape(w, (size(X)[1], 1))\n",
    "    \n",
    "    # Compute vector \"A\" predicting the probabilities of a cat being present in the picture\n",
    "    ### START CODE HERE ### (≈ 1 line of code)\n",
    "    A = sigmoid(w' * X .+ b)\n",
    "    ### END CODE HERE ###\n",
    "    \n",
    "    for i in 1: size(A)[2]\n",
    "        # Convert probabilities A[0,i] to actual predictions p[0,i]\n",
    "        ### START CODE HERE ### (≈ 4 lines of code)\n",
    "        if A[1, i] <= 0.5\n",
    "            Y_prediction[1, i] = 0\n",
    "        else\n",
    "            Y_prediction[1, i] = 1\n",
    "        end\n",
    "        ### END CODE HERE ###\n",
    "    end\n",
    "    \n",
    "    @assert size(Y_prediction) == (1, m)\n",
    "    \n",
    "    return Y_prediction\n",
    "end"
   ]
  },
  {
   "cell_type": "code",
   "execution_count": 20,
   "metadata": {},
   "outputs": [
    {
     "name": "stdout",
     "output_type": "stream",
     "text": [
      "predictions = [1.0 1.0 0.0]\n"
     ]
    }
   ],
   "source": [
    "w = [[0.1124579]; [0.23106775]]\n",
    "b = -0.3\n",
    "X = [[1. -1.1 -3.2]; [1.2 2. 0.1]]\n",
    "println(\"predictions = \" * string(predict(w, b, X)))"
   ]
  },
  {
   "cell_type": "markdown",
   "metadata": {},
   "source": [
    "**Expected Output**: \n",
    "\n",
    "|**predictions**|\n",
    "|---------------|\n",
    "|```[1.0 1.0 0.0]```|"
   ]
  },
  {
   "cell_type": "markdown",
   "metadata": {},
   "source": [
    "<font color='blue'>\n",
    "\n",
    "**What to remember:**\n",
    "You've implemented several functions that:\n",
    "- Initialize ```(w,b)```\n",
    "- Optimize the loss iteratively to learn parameters ```(w,b)```:\n",
    "    - computing the cost and its gradient \n",
    "    - updating the parameters using gradient descent\n",
    "- Use the learned ```(w,b)``` to predict the labels for a given set of examples"
   ]
  },
  {
   "cell_type": "markdown",
   "metadata": {},
   "source": [
    "## 5 - Merge All Functions into a Model"
   ]
  },
  {
   "cell_type": "markdown",
   "metadata": {},
   "source": [
    "You will now see how the overall model is structured by putting together all the building blocks (functions implemented in the previous parts) together, in the right order.\n",
    "\n",
    "**Exercise:** Implement the model function. Use the following notation:\n",
    "\n",
    "- ```Y_prediction_test``` for your predictions on the test set\n",
    "- ```Y_prediction_train``` for your predictions on the train set\n",
    "- ```w```, ```costs```, ```grads``` for the outputs of ```optimize()```"
   ]
  },
  {
   "cell_type": "code",
   "execution_count": 21,
   "metadata": {},
   "outputs": [
    {
     "data": {
      "text/plain": [
       "model"
      ]
     },
     "execution_count": 21,
     "metadata": {},
     "output_type": "execute_result"
    }
   ],
   "source": [
    "# GRADED FUNCTION: model\n",
    "\"\"\"\n",
    "Builds the logistic regression model by calling the function you've implemented previously\n",
    "\n",
    "Arguments:\n",
    "X_train -- training set represented by an array of shape (num_px * num_px * 3, m_train)\n",
    "Y_train -- training labels represented by an array (vector) of shape (1, m_train)\n",
    "X_test -- test set represented by an array of shape (num_px * num_px * 3, m_test)\n",
    "Y_test -- test labels represented by an array (vector) of shape (1, m_test)\n",
    "num_iterations -- hyperparameter representing the number of iterations to optimize the parameters\n",
    "learning_rate -- hyperparameter representing the learning rate used in the update rule of optimize()\n",
    "print_cost -- Set to true to print the cost every 100 iterations\n",
    "\n",
    "Returns:\n",
    "d -- dictionary containing information about the model.\n",
    "\"\"\"\n",
    "function model(X_train, Y_train, X_test, Y_test, num_iterations=2000, learning_rate=0.5, print_cost=false)\n",
    "    ### START CODE HERE ###\n",
    "    # initialize parameters with zeros (≈ 1 line of code)\n",
    "    w, b = initialize_with_zeros(size(X_train)[1])\n",
    "    # Gradient descent (≈ 1 line of code)\n",
    "    parameters, grads, costs = optimize(w, b, X_train, Y_train, num_iterations, learning_rate, print_cost)\n",
    "    # Retrieve parameters w and b from dictionary \"parameters\"\n",
    "    w = parameters[\"w\"]\n",
    "    b = parameters[\"b\"]\n",
    "    # Predict test/train set examples (≈ 2 lines of code)\n",
    "    Y_prediction_test = predict(w, b, X_test)\n",
    "    Y_prediction_train = predict(w, b, X_train)\n",
    "    ### END CODE HERE ###\n",
    "\n",
    "    # Print train/test Errors\n",
    "    @printf(\"train accuracy: %f%%\\n\", (100 - mean(abs.(Y_prediction_train .- Y_train)) * 100))\n",
    "    @printf(\"test accuracy: %f%%\", (100 - mean(abs.(Y_prediction_test .- Y_test)) * 100))\n",
    "\n",
    "    d = Dict(\"costs\" => costs,\n",
    "         \"Y_prediction_test\" => Y_prediction_test, \n",
    "         \"Y_prediction_train\" => Y_prediction_train, \n",
    "         \"w\" => w, \n",
    "         \"b\" => b,\n",
    "         \"learning_rate\" => learning_rate,\n",
    "         \"num_iterations\"=> num_iterations)\n",
    "    \n",
    "    return d\n",
    "end"
   ]
  },
  {
   "cell_type": "code",
   "execution_count": 22,
   "metadata": {},
   "outputs": [
    {
     "name": "stdout",
     "output_type": "stream",
     "text": [
      "Cost after iteration 100: 0.6448978829531701\n",
      "Cost after iteration 200: 0.4848936141484849\n",
      "Cost after iteration 300: 0.3777614952163806\n",
      "Cost after iteration 400: 0.3317754055523588\n",
      "Cost after iteration 500: 0.3035286720260554\n",
      "Cost after iteration 600: 0.2800942775796749\n",
      "Cost after iteration 700: 0.26022584756281886\n",
      "Cost after iteration 800: 0.24310018399838854\n",
      "Cost after iteration 900: 0.22814432769465368\n",
      "Cost after iteration 1000: 0.21494377069682477\n",
      "Cost after iteration 1100: 0.2031892821910463\n",
      "Cost after iteration 1200: 0.1926442802036589\n",
      "Cost after iteration 1300: 0.18312389153132894\n",
      "Cost after iteration 1400: 0.17448101386887013\n",
      "Cost after iteration 1500: 0.16659675354042913\n",
      "Cost after iteration 1600: 0.15937369509858543\n",
      "Cost after iteration 1700: 0.15273105849939203\n",
      "Cost after iteration 1800: 0.14660114629898885\n",
      "Cost after iteration 1900: 0.14092669166965166\n",
      "Cost after iteration 2000: 0.13565884743936962\n",
      "train accuracy: 99.043062%\n",
      "test accuracy: 70.000000%"
     ]
    }
   ],
   "source": [
    "d = model(train_set_x, train_set_y, test_set_x, test_set_y, 2000, 0.005, true);"
   ]
  },
  {
   "cell_type": "markdown",
   "metadata": {},
   "source": [
    "**Expected Output**: \n",
    "\n",
    "|**Cost after iteration 100**|**Train Accuracy**|**Test Accuracy**|\n",
    "|----------------------------|------------------|-----------------|\n",
    "|```0.64489788295317```|```99.043062%```|```70.000000%```|"
   ]
  },
  {
   "cell_type": "markdown",
   "metadata": {},
   "source": [
    "**Comment**: Training accuracy is close to 100%. This is a good sanity check: your model is working and has high enough capacity to fit the training data. Test accuracy is 68%. It is actually not bad for this simple model, given the small dataset we used and that logistic regression is a linear classifier. But no worries, you'll build an even better classifier next week!\n",
    "\n",
    "Also, you see that the model is clearly overfitting the training data. Later in this specialization you will learn how to reduce overfitting, for example by using regularization. Using the code below (and changing the `index` variable) you can look at predictions on pictures of the test set."
   ]
  },
  {
   "cell_type": "code",
   "execution_count": 23,
   "metadata": {},
   "outputs": [
    {
     "data": {
      "image/png": "[encoded data removed]",
      "text/plain": [
       "Figure(PyObject <Figure size 300x300 with 1 Axes>)"
      ]
     },
     "metadata": {},
     "output_type": "display_data"
    },
    {
     "name": "stdout",
     "output_type": "stream",
     "text": [
      "y = 1, you predicted that it is a cat picture.\n"
     ]
    }
   ],
   "source": [
    "# Example of a picture that was wrongly classified.\n",
    "index = 2\n",
    "plt.figure(figsize=(3,3))\n",
    "plt.imshow(test_set_x_orig[index, :, :, :])\n",
    "\n",
    "println(\"y = \" * string(test_set_y[index]) * \", you predicted that it is a \" * \n",
    "    classes[Int(d[\"Y_prediction_test\"][index]) + 1] *  \" picture.\")"
   ]
  },
  {
   "cell_type": "code",
   "execution_count": 24,
   "metadata": {},
   "outputs": [
    {
     "data": {
      "image/png": "[encoded data removed]",
      "text/plain": [
       "Figure(PyObject <Figure size 640x480 with 1 Axes>)"
      ]
     },
     "metadata": {},
     "output_type": "display_data"
    }
   ],
   "source": [
    "costs = d[\"costs\"]\n",
    "plt.plot(costs)\n",
    "plt.ylabel(\"cost\")\n",
    "plt.xlabel(\"iterations (per hundreds)\")\n",
    "plt.title(\"Learning rate =\" * string(d[\"learning_rate\"]))\n",
    "plt.show()"
   ]
  },
  {
   "cell_type": "markdown",
   "metadata": {},
   "source": [
    "**Interpretation**:\n",
    "You can see the cost decreasing. It shows that the parameters are being learned. However, you see that you could train the model even more on the training set. Try to increase the number of iterations in the cell above and rerun the cells. You might see that the training set accuracy goes up, but the test set accuracy goes down. This is called overfitting. "
   ]
  },
  {
   "cell_type": "markdown",
   "metadata": {},
   "source": [
    "## 6 - Further Analysis (optional/ungraded exercise) "
   ]
  },
  {
   "cell_type": "markdown",
   "metadata": {},
   "source": [
    "Congratulations on building your first image classification model. Let's analyze it further, and examine possible choices for the learning rate $\\alpha$. "
   ]
  },
  {
   "cell_type": "markdown",
   "metadata": {},
   "source": [
    "### Choice of learning rate"
   ]
  },
  {
   "cell_type": "markdown",
   "metadata": {},
   "source": [
    "**Reminder**:\n",
    "In order for Gradient Descent to work you must choose the learning rate wisely. The learning rate $\\alpha$  determines how rapidly we update the parameters. If the learning rate is too large we may \"*overshoot*\" the optimal value. Similarly, if it is too small we will need *too many iterations* to converge to the best values. That's why it is crucial to use a well-tuned learning rate.\n",
    "\n",
    "Let's compare the learning curve of our model with several choices of learning rates. Run the cell below. This should take about 1 minute. Feel free also to try different values than the three we have initialized the `learning_rates` variable to contain, and see what happens. "
   ]
  },
  {
   "cell_type": "code",
   "execution_count": 25,
   "metadata": {},
   "outputs": [
    {
     "name": "stdout",
     "output_type": "stream",
     "text": [
      "learning rate is: 0.01\n",
      "train accuracy: 99.521531%\n",
      "test accuracy: 68.000000%\n",
      "-------------------------------------------------------\n",
      "\n",
      "learning rate is: 0.001\n",
      "train accuracy: 88.995215%\n",
      "test accuracy: 64.000000%\n",
      "-------------------------------------------------------\n",
      "\n",
      "learning rate is: 0.0001\n"
     ]
    },
    {
     "data": {
      "image/png": "[encoded data removed]",
      "text/plain": [
       "Figure(PyObject <Figure size 640x480 with 1 Axes>)"
      ]
     },
     "metadata": {},
     "output_type": "display_data"
    },
    {
     "name": "stdout",
     "output_type": "stream",
     "text": [
      "train accuracy: 68.421053%\n",
      "test accuracy: 36.000000%\n",
      "-------------------------------------------------------\n",
      "\n"
     ]
    }
   ],
   "source": [
    "learning_rates = [0.01, 0.001, 0.0001]\n",
    "models = Dict()\n",
    "\n",
    "for i in learning_rates\n",
    "    println(\"learning rate is: \" * string(i))\n",
    "    models[string(i)] = model(train_set_x, train_set_y, test_set_x, test_set_y, 1500, i, false)\n",
    "    println(\"\\n\" * \"-------------------------------------------------------\" * \"\\n\")\n",
    "end\n",
    "\n",
    "for i in learning_rates\n",
    "    plt.plot(models[string(i)][\"costs\"], label= string(models[string(i)][\"learning_rate\"]))\n",
    "end\n",
    "\n",
    "plt.ylabel(\"cost\")\n",
    "plt.xlabel(\"iterations (hundreds)\")\n",
    "\n",
    "legend = plt.legend(loc=\"upper center\", shadow=true)\n",
    "frame = legend.get_frame()\n",
    "frame.set_facecolor(\"0.90\")\n",
    "plt.show()"
   ]
  },
  {
   "cell_type": "markdown",
   "metadata": {},
   "source": [
    "**Interpretation**: \n",
    "- Different learning rates give different costs and thus different predictions results.\n",
    "- If the learning rate is too large ($0.01$), the cost may *oscillate up and down.* It may even *diverge* (though in this example, using $0.01$ still eventually ends up at a good value for the cost). \n",
    "- A lower cost doesn't mean a better model. You have to check if there is possibly *overfitting*. It happens when the training accuracy is a lot higher than the test accuracy.\n",
    "- In deep learning, we usually recommend that you: \n",
    "    - Choose the learning rate that better minimizes the cost function.\n",
    "    - If your model overfits, use other techniques to reduce overfitting. (We'll talk about this in later videos.) "
   ]
  },
  {
   "cell_type": "markdown",
   "metadata": {},
   "source": [
    "## 7 - Test with Your Own Image (optional/ungraded exercise) "
   ]
  },
  {
   "cell_type": "markdown",
   "metadata": {},
   "source": [
    "Congratulations on finishing this assignment. You can use your own image and see the output of your model. To do that:\n",
    "1. Click on \"File\" in the upper bar of this notebook, then click \"Open\" to go to the current folder.\n",
    "2. Add your image to this Jupyter Notebook's directory, in the \"images\" folder\n",
    "3. Change your image's name in the following code\n",
    "4. Run the code and check if the algorithm is right (1 = cat, 0 = non-cat)!"
   ]
  },
  {
   "cell_type": "code",
   "execution_count": 26,
   "metadata": {},
   "outputs": [
    {
     "data": {
      "image/png": "[encoded data removed]",
      "text/plain": [
       "Figure(PyObject <Figure size 640x480 with 1 Axes>)"
      ]
     },
     "metadata": {},
     "output_type": "display_data"
    },
    {
     "name": "stdout",
     "output_type": "stream",
     "text": [
      "y = 0, your algorithm predicts a non-cat picture.\n"
     ]
    }
   ],
   "source": [
    "using Images, ImageTransformations, FileIO\n",
    "## START CODE HERE ## (PUT YOUR IMAGE NAME) \n",
    "my_image = \"my_image.jpg\"   # change this to the name of your image file \n",
    "## END CODE HERE ##\n",
    "\n",
    "# We preprocess the image to fit your algorithm.\n",
    "fname = \"images/\" * my_image\n",
    "image = load(fname)\n",
    "image = imresize(image, (num_px, num_px))\n",
    "image = channelview(image)\n",
    "image = permutedims(image, [2,3,1])\n",
    "plt.imshow(image)\n",
    "\n",
    "image = image/255\n",
    "my_image = permutedims(reshape(image, (num_px*num_px, 3)), [2,1])\n",
    "my_image = reshape(my_image, (num_px*num_px*3, 1))\n",
    "my_predicted_image = predict(d[\"w\"], d[\"b\"], my_image)\n",
    "println(\"y = \" * string(Int(my_predicted_image[1])) * \", your algorithm predicts a \" *\n",
    "      classes[Int(my_predicted_image[1]) + 1] *  \" picture.\")"
   ]
  },
  {
   "cell_type": "markdown",
   "metadata": {},
   "source": [
    "<font color='blue'>\n",
    "    \n",
    "**What to remember from this assignment:**\n",
    "1. Preprocessing the dataset is important.\n",
    "2. You implemented each function separately: ```initialize()```, ```propagate()```, ```optimize()```. Then you built a ```model()```.\n",
    "3. Tuning the learning rate (which is an example of a \"hyperparameter\") can make a big difference to the algorithm. You will see more examples of this later in this course!"
   ]
  },
  {
   "cell_type": "markdown",
   "metadata": {},
   "source": [
    "Finally, if you'd like, we invite you to try different things on this Notebook. Make sure you submit before trying anything. Once you submit, things you can play with include:\n",
    "- Play with the learning rate and the number of iterations\n",
    "- Try different initialization methods and compare the results\n",
    "- Test other preprocessings (center the data, or divide each row by its standard deviation)"
   ]
  },
  {
   "cell_type": "markdown",
   "metadata": {},
   "source": [
    "Bibliography:\n",
    "- http://www.wildml.com/2015/09/implementing-a-neural-network-from-scratch/\n",
    "- https://stats.stackexchange.com/questions/211436/why-do-we-normalize-images-by-subtracting-the-datasets-image-mean-and-not-the-c"
   ]
  }
 ],
 "metadata": {
  "kernelspec": {
   "display_name": "JuliaPro_v1.5.3-1 1.5.3",
   "language": "julia",
   "name": "juliapro_v1.5.3-1-1.5"
  },
  "language_info": {
   "file_extension": ".jl",
   "mimetype": "application/julia",
   "name": "julia",
   "version": "1.5.3"
  }
 },
 "nbformat": 4,
 "nbformat_minor": 4
}
