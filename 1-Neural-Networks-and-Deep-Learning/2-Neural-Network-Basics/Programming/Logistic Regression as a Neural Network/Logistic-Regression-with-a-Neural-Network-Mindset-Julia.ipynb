{
 "cells": [
  {
   "cell_type": "markdown",
   "metadata": {},
   "source": [
    "# Logistic Regression with a Neural Network Mindset"
   ]
  },
  {
   "cell_type": "markdown",
   "metadata": {},
   "source": [
    "## 1 - Packages "
   ]
  },
  {
   "cell_type": "code",
   "execution_count": 32,
   "metadata": {},
   "outputs": [],
   "source": [
    "using HDF5\n",
    "using PyPlot\n",
    "using LaTeXStrings\n",
    "using LinearAlgebra"
   ]
  },
  {
   "cell_type": "markdown",
   "metadata": {},
   "source": [
    "## 2 - Overview of the Problem Set"
   ]
  },
  {
   "cell_type": "markdown",
   "metadata": {},
   "source": [
    "**Problem Statement**: You are given a dataset (\"```data.h5```\") containing:\n",
    "    - a training set of ```m_train``` images labeled as cat (```y=1```) or non-cat (```y=0```)\n",
    "    - a test set of ```m_test``` images labeled as cat or non-cat\n",
    "    - each image is of shape ```(num_px, num_px, 3)``` where ```3``` is for the $3$ channels (RGB). Thus, each image is square (```height = num_px```) and (```width = num_px```).\n",
    "\n",
    "You will build a simple image-recognition algorithm that can correctly classify pictures as cat or non-cat.\n",
    "\n",
    "Let's get more familiar with the dataset. Notice that in Julia, to read a Hierarchical Data Format (HDF) file, we need to use ```fid = h5open(filename, mode)```, in which ```filename``` is a string and the mode can be any one of the following:\n",
    "\n",
    "|mode        |Meaning   |\n",
    "|------------|----------|\n",
    "|```\"r\"```   |read-only |\n",
    "|```\"r+\"```  |read-write, preserving any existing contents |\n",
    "|```\"cw\"```  |read-write, create file if not existing, preserve existing contents |\n",
    "|```\"w\"```   |read-write, destroying any existing contents (if any)|\n",
    "\n",
    "See more information on [HDF5.jl](https://juliaio.github.io/HDF5.jl/stable/).\n",
    "\n",
    "Load the data by running the following code."
   ]
  },
  {
   "cell_type": "code",
   "execution_count": 10,
   "metadata": {},
   "outputs": [],
   "source": [
    "# Read the training set\n",
    "fid_train = h5open(\"./datasets/train_catvnoncat.h5\",\"r\")\n",
    "\n",
    "train_set_x_orig = Int.(fid_train[\"train_set_x\"][:, :, :, :]) # size(train_set_x_orig) = (3, 64, 64, 209)\n",
    "train_set_x_orig = permutedims(train_set_x_orig, [4, 3, 2, 1]) # size(train_set_x_orig) = (209, 64, 64, 3)\n",
    "\n",
    "train_set_y_orig = Int.(fid_train[\"train_set_y\"][:]) # size(train_set_y_orig) = (209,)\n",
    "train_set_y = reshape(train_set_y_orig, (1, length(train_set_y_orig))) # size(train_set_y) = (1, 209)\n",
    "\n",
    "# Read the test set\n",
    "fid_test = h5open(\"./datasets/test_catvnoncat.h5\",\"r\")\n",
    "\n",
    "test_set_x_orig = Int.(fid_test[\"test_set_x\"][:, :, :, :]) # size(test_set_x_orig) = (3, 64, 64, 50)\n",
    "test_set_x_orig = permutedims(test_set_x_orig, [4, 3, 2, 1]) # size(test_set_x_orig) = (50, 64, 64, 3)\n",
    "\n",
    "test_set_y_orig = Int.(fid_test[\"test_set_y\"][:]) # size(test_set_y_orig) = (50,)\n",
    "test_set_y = reshape(test_set_y_orig, (1, length(test_set_y_orig))) # size(test_set_y) = (1, 50)\n",
    "\n",
    "# Read the classes\n",
    "classes = string.(fid_test[\"list_classes\"][:]);"
   ]
  },
  {
   "cell_type": "markdown",
   "metadata": {},
   "source": [
    "We added \"```_orig```\" at the end of image datasets (train and test) because we are going to preprocess them. After preprocessing, we will end up with ```train_set_x``` and ```test_set_x``` (the labels ```train_set_y``` and ```test_set_y``` don't need any preprocessing).\n",
    "\n",
    "Each line of your ```train_set_x_orig``` and ```test_set_x_orig``` is an array representing an image. You can visualize an example by running the following code. Feel free also to change the ```index``` value and re-run to see other images. "
   ]
  },
  {
   "cell_type": "code",
   "execution_count": 11,
   "metadata": {},
   "outputs": [
    {
     "data": {
      "image/png": "[encoded data removed]",
      "text/plain": [
       "Figure(PyObject <Figure size 300x300 with 1 Axes>)"
      ]
     },
     "metadata": {},
     "output_type": "display_data"
    },
    {
     "name": "stdout",
     "output_type": "stream",
     "text": [
      "y = 1, it's a cat picture.\n"
     ]
    }
   ],
   "source": [
    "# Example of a picture\n",
    "index =  26\n",
    "plt.figure(figsize=(3,3))\n",
    "plt.imshow(train_set_x_orig[index, :, :, :])\n",
    "println(\"y = \" * string(train_set_y[index]) * \", it's a \" * classes[(train_set_y[index])+1] *  \" picture.\")"
   ]
  },
  {
   "cell_type": "markdown",
   "metadata": {},
   "source": [
    "Many software bugs in deep learning come from having matrix/vector dimensions that don't fit. If you can keep your matrix/vector dimensions straight you will go a long way toward eliminating many bugs. \n",
    "\n",
    "**Exercise:** Find the values for:\n",
    "    - ```m_train``` (number of training examples)\n",
    "    - ```m_test``` (number of test examples)\n",
    "    - ```num_px``` (= ```height``` = ```width``` of a training image)\n",
    "Remember that `train_set_x_orig` is an array of shape ```(m_train, num_px, num_px, 3)```. For instance, you can access `m_train` by writing `size(train_set_x_orig)[0]`."
   ]
  },
  {
   "cell_type": "code",
   "execution_count": 12,
   "metadata": {},
   "outputs": [
    {
     "name": "stdout",
     "output_type": "stream",
     "text": [
      "Number of training examples: m_train = 209\n",
      "Number of testing examples: m_test = 50\n",
      "Height/Width of each image: num_px = 64\n",
      "Each image is of size: (64, 64, 3)\n",
      "train_set_x shape: (209, 64, 64, 3)\n",
      "train_set_y shape: (1, 209)\n",
      "test_set_x shape: (50, 64, 64, 3)\n",
      "test_set_y shape: (1, 50)\n"
     ]
    }
   ],
   "source": [
    "### START CODE HERE ### (≈ 3 lines of code)\n",
    "m_train = size(train_set_x_orig)[1]\n",
    "m_test = size(test_set_x_orig)[1]\n",
    "num_px = size(train_set_x_orig)[2]\n",
    "### END CODE HERE ###\n",
    "\n",
    "println(\"Number of training examples: m_train = \" * string(m_train))\n",
    "println(\"Number of testing examples: m_test = \" * string(m_test))\n",
    "println(\"Height/Width of each image: num_px = \" * string(num_px))\n",
    "println(\"Each image is of size: (\" * string(num_px) * \", \" * string(num_px) * \", 3)\")\n",
    "println(\"train_set_x shape: \" * string(size(train_set_x_orig)))\n",
    "println(\"train_set_y shape: \" * string(size(train_set_y)))\n",
    "println(\"test_set_x shape: \" * string(size(test_set_x_orig)))\n",
    "println(\"test_set_y shape: \" * string(size(test_set_y)))"
   ]
  },
  {
   "cell_type": "markdown",
   "metadata": {},
   "source": [
    "**Expected Output for ```m_train```, ```m_test``` and ```num_px```**: \n",
    "\n",
    "| ```m_train``` | ```m_test``` | ```num_px``` |\n",
    "|---------------|--------------|--------------|\n",
    "| 209           | 50           | 64           |"
   ]
  },
  {
   "cell_type": "markdown",
   "metadata": {},
   "source": [
    "For convenience, you should now reshape images of shape ```(num_px, num_px, 3)``` in an array of shape ```(num_px*num_px*3, 1)```. After this, our training (and test) dataset is an array where each column represents a flattened image. There should be ```m_train``` (respectively ```m_test```) columns.\n",
    "\n",
    "**Exercise:** Reshape the training and test data sets so that images of size ```(num_px, num_px, 3)``` are flattened into single vectors of shape ```(num_px*num_px*3, 1)```.\n",
    "\n",
    "A trick when you want to flatten a matrix ```X``` of shape ```(a,b,c,d)``` to a matrix ```X_flatten``` of shape ```(b*c*d, a)``` is to use: \n",
    "\n",
    "```julia\n",
    "X_flatten = reshape(X, (b*c*d, a))\n",
    "```"
   ]
  },
  {
   "cell_type": "code",
   "execution_count": 14,
   "metadata": {},
   "outputs": [
    {
     "name": "stdout",
     "output_type": "stream",
     "text": [
      "train_set_x_flatten shape: (12288, 209)\n",
      "train_set_y shape: (1, 209)\n",
      "test_set_x_flatten shape: (12288, 50)\n",
      "test_set_y shape: (1, 50)\n",
      "sanity check after reshaping: [17, 196, 82, 1, 9, 84]\n"
     ]
    }
   ],
   "source": [
    "# Reshape the training and test examples\n",
    "\n",
    "### START CODE HERE ### (≈ 2 lines of code)\n",
    "train_set_x_flatten = reshape(train_set_x_orig, (num_px*num_px*3, m_train))\n",
    "test_set_x_flatten = reshape(test_set_x_orig, (num_px*num_px*3, m_test))\n",
    "### END CODE HERE ###\n",
    "\n",
    "println(\"train_set_x_flatten shape: \" * string(size(train_set_x_flatten)))\n",
    "println(\"train_set_y shape: \" * string(size(train_set_y)))\n",
    "println(\"test_set_x_flatten shape: \" * string(size(test_set_x_flatten)))\n",
    "println(\"test_set_y shape: \" * string(size(test_set_y)))\n",
    "println(\"sanity check after reshaping: \" * string(train_set_x_flatten[1:6, 1]))"
   ]
  },
  {
   "cell_type": "markdown",
   "metadata": {},
   "source": [
    "**Expected Output**: \n",
    "\n",
    "| ```train_set_x_flatten shape``` | ```train_set_y shape``` | ```test_set_x_flatten shape``` | ```test_set_y shape``` | sanity check after reshaping |\n",
    "|---------------------------------|-------------------------|-------------------------------:|------------------------|------------------------------|\n",
    "| ```(12288, 209)```              | ```(1, 209)```          |              ```(12288, 50)``` | ```(1, 50)```          | ```[17, 196, 82, 1, 9, 84]```       |"
   ]
  },
  {
   "cell_type": "markdown",
   "metadata": {},
   "source": [
    "To represent color images, the red, green and blue channels (RGB) must be specified for each pixel, and so the pixel value is actually a vector of three numbers ranging from 0 to 255.\n",
    "\n",
    "One common preprocessing step in machine learning is to center and standardize your dataset, meaning that you substract the mean of the whole numpy array from each example, and then divide each example by the standard deviation of the whole numpy array. But for picture datasets, it is simpler and more convenient and works almost as well to just divide every row of the dataset by 255 (the maximum value of a pixel channel).\n",
    "\n",
    "<!-- During the training of your model, you're going to multiply weights and add biases to some initial inputs in order to observe neuron activations. Then you backpropogate with the gradients to train the model. But, it is extremely important for each feature to have a similar range such that our gradients don't explode. You will see that more in detail later in the lectures. !--> \n",
    "\n",
    "Let's standardize our dataset."
   ]
  },
  {
   "cell_type": "code",
   "execution_count": 16,
   "metadata": {},
   "outputs": [],
   "source": [
    "train_set_x = train_set_x_flatten ./ 255\n",
    "test_set_x = test_set_x_flatten ./ 255;"
   ]
  },
  {
   "cell_type": "markdown",
   "metadata": {},
   "source": [
    "**What you need to remember:**\n",
    "\n",
    "Common steps for pre-processing a new dataset are:\n",
    "- Figure out the dimensions and shapes of the problem ```(m_train, m_test, num_px, ...)```\n",
    "- Reshape the datasets such that each example is now a vector of size ```(num_px * num_px * 3, 1)```\n",
    "- \"Standardize\" the data"
   ]
  },
  {
   "cell_type": "markdown",
   "metadata": {},
   "source": [
    "## 3 - General Architecture of the learning algorithm\n",
    "\n",
    "It's time to design a simple algorithm to distinguish cat images from non-cat images.\n",
    "\n",
    "You will build a Logistic Regression, using a Neural Network mindset. The following Figure explains why **Logistic Regression is actually a very simple Neural Network!**\n",
    "\n",
    "<img src=\"images/LogReg_kiank.png\" style=\"width:650px;height:400px;\">\n",
    "\n",
    "**Mathematical expression of the algorithm**:\n",
    "\n",
    "For one example $x^{(i)}$:\n",
    "$$z^{(i)} = w^T x^{(i)} + b \\tag{1}$$\n",
    "$$\\hat{y}^{(i)} = a^{(i)} = sigmoid(z^{(i)})\\tag{2}$$ \n",
    "$$ \\mathcal{L}(a^{(i)}, y^{(i)}) =  - y^{(i)}  \\log(a^{(i)}) - (1-y^{(i)} )  \\log(1-a^{(i)})\\tag{3}$$\n",
    "\n",
    "The cost is then computed by summing over all training examples:\n",
    "$$ J = \\frac{1}{m} \\sum_{i=1}^m \\mathcal{L}(a^{(i)}, y^{(i)})\\tag{6}$$\n",
    "\n",
    "**Key steps**:\n",
    "In this exercise, you will carry out the following steps: \n",
    "\n",
    "- Initialize the parameters of the model\n",
    "- Learn the parameters for the model by minimizing the cost  \n",
    "- Use the learned parameters to make predictions (on the test set)\n",
    "- Analyse the results and conclude"
   ]
  },
  {
   "cell_type": "markdown",
   "metadata": {},
   "source": [
    "## 4 - Building the parts of our algorithm ## \n",
    "\n",
    "The main steps for building a Neural Network are:\n",
    "1. Define the model structure (such as number of input features) \n",
    "2. Initialize the model's parameters\n",
    "3. Loop:\n",
    "    - Calculate current loss (forward propagation)\n",
    "    - Calculate current gradient (backward propagation)\n",
    "    - Update parameters (gradient descent)\n",
    "\n",
    "You often build 1-3 separately and integrate them into one function we call `model()`.\n",
    "\n",
    "### 4.1 - Helper functions\n",
    "\n",
    "**Exercise**: Implement `sigmoid()`. As you've seen in the figure above, you need to compute $sigmoid( w^T x + b) = \\frac{1}{1 + e^{-(w^T x + b)}}$ to make predictions."
   ]
  },
  {
   "cell_type": "code",
   "execution_count": 19,
   "metadata": {},
   "outputs": [
    {
     "data": {
      "text/plain": [
       "sigmoid"
      ]
     },
     "execution_count": 19,
     "metadata": {},
     "output_type": "execute_result"
    }
   ],
   "source": [
    "# GRADED FUNCTION: sigmoid\n",
    "\"\"\"\n",
    "Compute the sigmoid of z\n",
    "\n",
    "Arguments:\n",
    "z -- A scalar or numpy array of any size.\n",
    "\n",
    "Return:\n",
    "s -- sigmoid(z)\n",
    "\"\"\"\n",
    "function sigmoid(z)\n",
    "    \n",
    "    ### START CODE HERE ### (≈ 1 line of code)\n",
    "    s = 1 ./ (1 .+ exp.(-z))\n",
    "    ### END CODE HERE ###\n",
    "    \n",
    "    return s\n",
    "end"
   ]
  },
  {
   "cell_type": "code",
   "execution_count": 20,
   "metadata": {},
   "outputs": [
    {
     "name": "stdout",
     "output_type": "stream",
     "text": [
      "sigmoid([0, 2]) = [0.5, 0.8807970779778823]\n"
     ]
    }
   ],
   "source": [
    "println(\"sigmoid([0, 2]) = \" * string(sigmoid([0, 2])))"
   ]
  },
  {
   "cell_type": "markdown",
   "metadata": {},
   "source": [
    "**Expected Output**: \n",
    "\n",
    "<table>\n",
    "  <tr>\n",
    "    <td>**sigmoid([0, 2])**</td>\n",
    "    <td> [ 0.5         0.88079708]</td> \n",
    "  </tr>\n",
    "</table>"
   ]
  },
  {
   "cell_type": "markdown",
   "metadata": {},
   "source": [
    "### 4.2 - Initializing parameters\n",
    "\n",
    "**Exercise:** Implement parameter initialization in the cell below. You have to initialize ```w``` as a vector of zeros."
   ]
  },
  {
   "cell_type": "code",
   "execution_count": 87,
   "metadata": {},
   "outputs": [
    {
     "data": {
      "text/plain": [
       "initialize_with_zeros"
      ]
     },
     "execution_count": 87,
     "metadata": {},
     "output_type": "execute_result"
    }
   ],
   "source": [
    "# GRADED FUNCTION: initialize_with_zeros\n",
    "\"\"\"\n",
    "This function creates a vector of zeros of shape (dim, 1) for w and initializes b to 0.\n",
    "\n",
    "Argument:\n",
    "dim -- size of the w vector we want (or number of parameters in this case)\n",
    "\n",
    "Returns:\n",
    "w -- initialized vector of shape (dim, 1)\n",
    "b -- initialized scalar (corresponds to the bias)\n",
    "\"\"\"\n",
    "function initialize_with_zeros(dim)\n",
    "\n",
    "    ### START CODE HERE ### (≈ 1 line of code)\n",
    "    w = zeros((dim, 1))\n",
    "    b = 0\n",
    "    ### END CODE HERE ###\n",
    "\n",
    "    @assert size(w) == (dim, 1)\n",
    "    @assert isa(b, Float64) | isa(b, Int)\n",
    "    \n",
    "    return w, b\n",
    "end"
   ]
  },
  {
   "cell_type": "code",
   "execution_count": 88,
   "metadata": {},
   "outputs": [
    {
     "name": "stdout",
     "output_type": "stream",
     "text": [
      "w = [0.0; 0.0]\n",
      "b = 0\n"
     ]
    }
   ],
   "source": [
    "dim = 2\n",
    "w, b = initialize_with_zeros(dim)\n",
    "println(\"w = \" * string(w))\n",
    "println(\"b = \" * string(b))"
   ]
  },
  {
   "cell_type": "markdown",
   "metadata": {},
   "source": [
    "**Expected Output**: \n",
    "\n",
    "\n",
    "<table style=\"width:15%\">\n",
    "    <tr>\n",
    "        <td>  ** w **  </td>\n",
    "        <td> [[ 0.]\n",
    " [ 0.]] </td>\n",
    "    </tr>\n",
    "    <tr>\n",
    "        <td>  ** b **  </td>\n",
    "        <td> 0 </td>\n",
    "    </tr>\n",
    "</table>\n",
    "\n",
    "For image inputs, w will be of shape (num_px $\\times$ num_px $\\times$ 3, 1)."
   ]
  },
  {
   "cell_type": "markdown",
   "metadata": {},
   "source": [
    "### 4.3 - Forward and Backward propagation\n",
    "\n",
    "Now that your parameters are initialized, you can do the \"forward\" and \"backward\" propagation steps for learning the parameters.\n",
    "\n",
    "**Exercise:** Implement a function `propagate()` that computes the cost function and its gradient.\n",
    "\n",
    "**Hints**:\n",
    "\n",
    "Forward Propagation:\n",
    "- You get X\n",
    "- You compute $A = \\sigma(w^T X + b) = (a^{(1)}, a^{(2)}, ..., a^{(m-1)}, a^{(m)})$\n",
    "- You calculate the cost function: $J = -\\frac{1}{m}\\sum_{i=1}^{m}y^{(i)}\\log(a^{(i)})+(1-y^{(i)})\\log(1-a^{(i)})$\n",
    "\n",
    "Here are the two formulas you will be using: \n",
    "\n",
    "$$ \\frac{\\partial J}{\\partial w} = \\frac{1}{m}X(A-Y)^T\\tag{7}$$\n",
    "$$ \\frac{\\partial J}{\\partial b} = \\frac{1}{m} \\sum_{i=1}^m (a^{(i)}-y^{(i)})\\tag{8}$$"
   ]
  },
  {
   "cell_type": "code",
   "execution_count": 89,
   "metadata": {},
   "outputs": [
    {
     "data": {
      "text/plain": [
       "propagate"
      ]
     },
     "execution_count": 89,
     "metadata": {},
     "output_type": "execute_result"
    }
   ],
   "source": [
    "# GRADED FUNCTION: propagate\n",
    "\"\"\"\n",
    "Implement the cost function and its gradient for the propagation explained above\n",
    "\n",
    "Arguments:\n",
    "w -- weights, an array of size (num_px * num_px * 3, 1)\n",
    "b -- bias, a scalar\n",
    "X -- data of size (num_px * num_px * 3, number of examples)\n",
    "Y -- true \"label\" vector (containing 0 if non-cat, 1 if cat) of size (1, number of examples)\n",
    "\n",
    "Return:\n",
    "cost -- negative log-likelihood cost for logistic regression\n",
    "dw -- gradient of the loss with respect to w, thus same shape as w\n",
    "db -- gradient of the loss with respect to b, thus same shape as b\n",
    "\n",
    "Tips:\n",
    "- Write your code step by step for the propagation. log(), dot()\n",
    "\"\"\"\n",
    "function propagate(w, b, X, Y)\n",
    "\n",
    "    m = size(X)[2]\n",
    "    \n",
    "    # FORWARD PROPAGATION (FROM X TO COST)\n",
    "    ### START CODE HERE ### (≈ 2 lines of code)\n",
    "    A = sigmoid((w' * X) .+ b)                                              # compute activation\n",
    "    cost = - 1/m * (dot(Y, log.(A)) + dot(1 .- Y, log.(1 .- A)))    # compute cost\n",
    "    ### END CODE HERE ###\n",
    "    \n",
    "    # BACKWARD PROPAGATION (TO FIND GRAD)\n",
    "    ### START CODE HERE ### (≈ 2 lines of code)\n",
    "    dw = 1/m * (X * (A .- Y)')\n",
    "    db = 1/m * sum(A .- Y)\n",
    "    ### END CODE HERE ###\n",
    "    @assert size(dw) == size(w)\n",
    "    @assert isa(db, Float64)\n",
    "    @assert size(cost) == ()\n",
    "    \n",
    "    grads = Dict(\"dw\" => dw,\n",
    "             \"db\"=> db)\n",
    "    \n",
    "    return grads, cost\n",
    "end"
   ]
  },
  {
   "cell_type": "code",
   "execution_count": 90,
   "metadata": {},
   "outputs": [
    {
     "name": "stdout",
     "output_type": "stream",
     "text": [
      "dw = [0.998456014637956; 2.3950723884862066]\n",
      "db = 0.001455578136784208\n",
      "cost = 5.801545319394553\n"
     ]
    }
   ],
   "source": [
    "w, b, X, Y = [[1.]; [2.]], 2., [[1. 2. -1.]; [3. 4. -3.2]], [1 0 1]\n",
    "w = reshape(w, (length(w), 1))\n",
    "Y = reshape(Y, (1, length(Y)))\n",
    "grads, cost = propagate(w, b, X, Y)\n",
    "println(\"dw = \" * string(grads[\"dw\"]))\n",
    "println(\"db = \" * string(grads[\"db\"]))\n",
    "println(\"cost = \" * string(cost))"
   ]
  },
  {
   "cell_type": "markdown",
   "metadata": {},
   "source": [
    "**Expected Output**:\n",
    "\n",
    "<table style=\"width:50%\">\n",
    "    <tr>\n",
    "        <td>  ** dw **  </td>\n",
    "      <td> [0.998456014637956; 2.3950723884862066]</td>\n",
    "    </tr>\n",
    "    <tr>\n",
    "        <td>  ** db **  </td>\n",
    "        <td> 0.00145557813678 </td>\n",
    "    </tr>\n",
    "    <tr>\n",
    "        <td>  ** cost **  </td>\n",
    "        <td> 5.801545319394553 </td>\n",
    "    </tr>\n",
    "\n",
    "</table>"
   ]
  },
  {
   "cell_type": "markdown",
   "metadata": {},
   "source": [
    "### 4.4 - Optimization\n",
    "- You have initialized your parameters.\n",
    "- You are also able to compute a cost function and its gradient.\n",
    "- Now, you want to update the parameters using gradient descent.\n",
    "\n",
    "**Exercise:** Write down the optimization function. The goal is to learn $w$ and $b$ by minimizing the cost function $J$. For a parameter $\\theta$, the update rule is $ \\theta = \\theta - \\alpha \\text{ } d\\theta$, where $\\alpha$ is the learning rate."
   ]
  },
  {
   "cell_type": "code",
   "execution_count": 93,
   "metadata": {},
   "outputs": [
    {
     "data": {
      "text/plain": [
       "optimize"
      ]
     },
     "execution_count": 93,
     "metadata": {},
     "output_type": "execute_result"
    }
   ],
   "source": [
    "# GRADED FUNCTION: optimize\n",
    "\"\"\"\n",
    "This function optimizes w and b by running a gradient descent algorithm\n",
    "\n",
    "Arguments:\n",
    "w -- weights, a numpy array of size (num_px * num_px * 3, 1)\n",
    "b -- bias, a scalar\n",
    "X -- data of shape (num_px * num_px * 3, number of examples)\n",
    "Y -- true \"label\" vector (containing 0 if non-cat, 1 if cat), of shape (1, number of examples)\n",
    "num_iterations -- number of iterations of the optimization loop\n",
    "learning_rate -- learning rate of the gradient descent update rule\n",
    "print_cost -- True to print the loss every 100 steps\n",
    "\n",
    "Returns:\n",
    "params -- dictionary containing the weights w and bias b\n",
    "grads -- dictionary containing the gradients of the weights and bias with respect to the cost function\n",
    "costs -- list of all the costs computed during the optimization, \n",
    "         this will be used to plot the learning curve.\n",
    "\n",
    "Tips:\n",
    "You basically need to write down two steps and iterate through them:\n",
    "    1) Calculate the cost and the gradient for the current parameters. Use propagate().\n",
    "    2) Update the parameters using gradient descent rule for w and b.\n",
    "\"\"\"\n",
    "function optimize(w, b, X, Y, num_iterations, learning_rate, print_cost = false)\n",
    "    \n",
    "    costs = []\n",
    "    \n",
    "    for i in 1: num_iterations\n",
    "        # Cost and gradient calculation (≈ 1-4 lines of code)\n",
    "        ### START CODE HERE ### \n",
    "        grads, cost = propagate(w, b, X, Y)\n",
    "        ### END CODE HERE ###\n",
    "        \n",
    "        # Retrieve derivatives from grads\n",
    "        dw = grads[\"dw\"]\n",
    "        db = grads[\"db\"]\n",
    "        \n",
    "        # update rule (≈ 2 lines of code)\n",
    "        ### START CODE HERE ###\n",
    "        w = w .- learning_rate.*dw\n",
    "        b = b .- learning_rate.*db\n",
    "        ### END CODE HERE ###\n",
    "        \n",
    "        # Record the costs\n",
    "        if i % 100 == 0\n",
    "            append!(costs, cost)\n",
    "        end\n",
    "        # Print the cost every 100 training iterations\n",
    "        if print_cost && i % 100 == 0\n",
    "            println(\"Cost after iteration $(i): $(cost)\")\n",
    "        end\n",
    "        \n",
    "        grads = Dict(\"dw\" => dw,\n",
    "             \"db\" => db)\n",
    "        params = Dict(\"w\" => w,\n",
    "              \"b\" => b)\n",
    "              \n",
    "    end\n",
    "\n",
    "    \n",
    "    return params, grads, costs\n",
    "end"
   ]
  },
  {
   "cell_type": "code",
   "execution_count": 95,
   "metadata": {},
   "outputs": [
    {
     "name": "stdout",
     "output_type": "stream",
     "text": [
      "w = [0.19033590888604332; 0.12259159246561413]\n",
      "b = 1.9253598300845747\n",
      "dw = [0.998456014637956; 2.3950723884862066]\n",
      "db = 0.001455578136784208\n"
     ]
    }
   ],
   "source": [
    "params, grads, costs = optimize(w, b, X, Y, 100, 0.009, false)\n",
    "\n",
    "println(\"w = \" * string(params[\"w\"]))\n",
    "println(\"b = \" * string(params[\"b\"]))\n",
    "println(\"dw = \" * string(grads[\"dw\"]))\n",
    "println(\"db = \" * string(grads[\"db\"]))"
   ]
  },
  {
   "cell_type": "code",
   "execution_count": null,
   "metadata": {},
   "outputs": [],
   "source": []
  }
 ],
 "metadata": {
  "kernelspec": {
   "display_name": "Julia 1.5.3",
   "language": "julia",
   "name": "julia-1.5"
  },
  "language_info": {
   "file_extension": ".jl",
   "mimetype": "application/julia",
   "name": "julia",
   "version": "1.5.3"
  }
 },
 "nbformat": 4,
 "nbformat_minor": 4
}
